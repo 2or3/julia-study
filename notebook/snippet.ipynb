{
 "cells": [
  {
   "cell_type": "markdown",
   "metadata": {},
   "source": [
    "### 範囲型\n",
    "- Syntax\n",
    "    - `start:end`, `start:step:end`\n",
    "- for分のin句に指定したり、配列の部分を取るために使ったりする\n",
    "- Objectなので変数に入れて、引数として渡すみたいなこともできる"
   ]
  },
  {
   "cell_type": "code",
   "execution_count": 3,
   "metadata": {},
   "outputs": [
    {
     "name": "stdout",
     "output_type": "stream",
     "text": [
      "1.0:0.01:10.0"
     ]
    }
   ],
   "source": [
    "x=1:.01:10\n",
    "print(x)"
   ]
  },
  {
   "cell_type": "code",
   "execution_count": 4,
   "metadata": {},
   "outputs": [
    {
     "name": "stdout",
     "output_type": "stream",
     "text": [
      "[3, 5, 7, 9]"
     ]
    }
   ],
   "source": [
    "x=[1,2,3,4,5,6,7,8,9,10]\n",
    "print(x[3:2:9])"
   ]
  },
  {
   "cell_type": "markdown",
   "metadata": {},
   "source": [
    "### マクロ\n",
    "- 「プログラムをプログラム中でデータ構造として扱うことができる」\n",
    "- メモリ使用抑えられる、早くなる\n",
    "- `function`でなく`macro`で始める"
   ]
  },
  {
   "cell_type": "code",
   "execution_count": 28,
   "metadata": {},
   "outputs": [
    {
     "name": "stdout",
     "output_type": "stream",
     "text": [
      "[0.8414709848078965, 0.8521603542838607, 0.8626066463484946, 0.8727951138553163, 0.8827108030401134, 0.8923385641622101, 0.9016630629506707, 0.9106687928737309, 0.919340088249014, 0.9276611382112591, 0.935616001553386]"
     ]
    }
   ],
   "source": [
    "function s(x)\n",
    "    sin(x^2)\n",
    "end\n",
    "x=1:.01:1.1\n",
    "print(@. s(x))"
   ]
  },
  {
   "cell_type": "markdown",
   "metadata": {},
   "source": [
    "### 文字列の結合\n",
    "- string関数\n",
    "    - string(\"A\", \"B\", \"C\")\n",
    "- もしくは`*`"
   ]
  },
  {
   "cell_type": "code",
   "execution_count": 13,
   "metadata": {},
   "outputs": [
    {
     "name": "stdout",
     "output_type": "stream",
     "text": [
      "ABC"
     ]
    }
   ],
   "source": [
    "print(string(\"A\", \"B\", \"C\"))"
   ]
  },
  {
   "cell_type": "code",
   "execution_count": 14,
   "metadata": {},
   "outputs": [
    {
     "data": {
      "text/plain": [
       "\"ABC\""
      ]
     },
     "execution_count": 14,
     "metadata": {},
     "output_type": "execute_result"
    }
   ],
   "source": [
    "\"A\" * \"B\" * \"C\""
   ]
  },
  {
   "cell_type": "code",
   "execution_count": null,
   "metadata": {},
   "outputs": [],
   "source": []
  }
 ],
 "metadata": {
  "kernelspec": {
   "display_name": "Julia 1.2.0",
   "language": "julia",
   "name": "julia-1.2"
  },
  "language_info": {
   "file_extension": ".jl",
   "mimetype": "application/julia",
   "name": "julia",
   "version": "1.2.0"
  }
 },
 "nbformat": 4,
 "nbformat_minor": 2
}
